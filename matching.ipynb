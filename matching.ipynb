{
 "cells": [
  {
   "cell_type": "code",
   "execution_count": 48,
   "metadata": {},
   "outputs": [],
   "source": [
    "using DataFrames\n",
    "using DataFramesMeta\n",
    "using GLM\n",
    "using CSV"
   ]
  },
  {
   "cell_type": "code",
   "execution_count": 46,
   "metadata": {},
   "outputs": [
    {
     "data": {
      "text/plain": [
       "make_dataset (generic function with 1 method)"
      ]
     },
     "metadata": {},
     "output_type": "display_data"
    }
   ],
   "source": [
    "# figure out how to read in types\n",
    "#data = vec(readdlm(\"coltypes.csv\", ',', String))\n",
    "function make_dataset(file,types,label,case,control,X)\n",
    "    df = CSV.read(file, DataFrame; delim='\\t', header=true, types=types)\n",
    "    @subset!(df, $label  .== case .|| $label .== control)\n",
    "    df = df[:, vcat(X,label)]\n",
    "    return @transform!(df, $label = ($label .== case))\n",
    "end"
   ]
  },
  {
   "cell_type": "code",
   "execution_count": 49,
   "metadata": {},
   "outputs": [
    {
     "data": {
      "text/plain": [
       "fit_logit (generic function with 1 method)"
      ]
     },
     "metadata": {},
     "output_type": "display_data"
    }
   ],
   "source": [
    "function fit_logit(df,label)\n",
    "    X = sum(Term.(Symbol.(names(df[:, Not(label)]))))\n",
    "    logit = glm(Term(label) ~ X, df, Binomial(), LogitLink())\n",
    "    return logit\n",
    "end"
   ]
  },
  {
   "cell_type": "code",
   "execution_count": 52,
   "metadata": {},
   "outputs": [
    {
     "data": {
      "text/plain": [
       "2201-element Vector{Float64}:\n",
       " 0.2521246458929164\n",
       " 0.2521246458929164\n",
       " 0.2521246458929164\n",
       " 0.2521246458929164\n",
       " 0.2521246458929164\n",
       " 0.2521246458929164\n",
       " 0.2521246458929164\n",
       " 0.2521246458929164\n",
       " 0.2521246458929164\n",
       " 0.2521246458929164\n",
       " ⋮\n",
       " 0.23954802259934121\n",
       " 0.23954802259934121\n",
       " 0.23954802259934121\n",
       " 0.23954802259934121\n",
       " 0.23954802259934121\n",
       " 0.23954802259934121\n",
       " 0.23954802259934121\n",
       " 0.23954802259934121\n",
       " 0.23954802259934121"
      ]
     },
     "metadata": {},
     "output_type": "display_data"
    }
   ],
   "source": [
    "types=[String,String,String,String]\n",
    "df = make_dataset(\"example_data/titanic.txt\",types,\"Survived\",\"Yes\",\"No\",[\"Class\"])\n",
    "logit = fit_logit(df,:Survived)\n",
    "predict(logit)"
   ]
  },
  {
   "cell_type": "code",
   "execution_count": null,
   "metadata": {},
   "outputs": [],
   "source": []
  }
 ],
 "metadata": {
  "kernelspec": {
   "display_name": "Julia 1.7.3",
   "language": "julia",
   "name": "julia-1.7"
  },
  "language_info": {
   "file_extension": ".jl",
   "mimetype": "application/julia",
   "name": "julia",
   "version": "1.7.3"
  },
  "orig_nbformat": 4
 },
 "nbformat": 4,
 "nbformat_minor": 2
}
