{
 "cells": [
  {
   "cell_type": "code",
   "execution_count": 1,
   "metadata": {},
   "outputs": [],
   "source": [
    "using DataFrames\n",
    "using DataFramesMeta\n",
    "using GLM\n",
    "using CSV"
   ]
  },
  {
   "cell_type": "code",
   "execution_count": 2,
   "metadata": {},
   "outputs": [
    {
     "data": {
      "text/plain": [
       "make_dataset"
      ]
     },
     "metadata": {},
     "output_type": "display_data"
    }
   ],
   "source": [
    "# TODO\n",
    "# figure out how to read in types\n",
    "#data = vec(readdlm(\"coltypes.csv\", ',', String))\n",
    "#add type validations df::DataFrame\n",
    "# add exceptions for unique ids, etc\n",
    "# deal with missings\n",
    "@doc \"\"\"\n",
    "make dataset\n",
    "\"\"\"\n",
    "function make_dataset(df, _id, label, case, control, X)\n",
    "    df2 = @subset(df, $label  .== case .|| $label .== control)\n",
    "    _ids = df2[:, _id]\n",
    "    labels = df2[:, label]\n",
    "    df2 = df2[:, vcat(label, X)]\n",
    "    df2 = @transform!(df2, $label = ($label .== case))\n",
    "    return df2, _ids, labels \n",
    "end"
   ]
  },
  {
   "cell_type": "code",
   "execution_count": 3,
   "metadata": {},
   "outputs": [
    {
     "data": {
      "text/plain": [
       "fit_logit (generic function with 1 method)"
      ]
     },
     "metadata": {},
     "output_type": "display_data"
    }
   ],
   "source": [
    "function fit_logit(df, label)\n",
    "    X = sum(Term.(Symbol.(names(df[:, Not(label)]))))\n",
    "    logit = glm(Term(label) ~ X, df, Binomial(), LogitLink())\n",
    "    return logit\n",
    "end"
   ]
  },
  {
   "cell_type": "code",
   "execution_count": 4,
   "metadata": {},
   "outputs": [
    {
     "data": {
      "text/plain": [
       "propensity_scores (generic function with 1 method)"
      ]
     },
     "metadata": {},
     "output_type": "display_data"
    }
   ],
   "source": [
    "function propensity_scores(df, _id, labels, model, _id_col_name, label_col_name, ps_col_name)\n",
    "    ps = predict(model)\n",
    "    return DataFrame(_id_col_name => _id, label_col_name => labels, ps_col_name => ps) \n",
    "end"
   ]
  },
  {
   "cell_type": "code",
   "execution_count": 5,
   "metadata": {},
   "outputs": [
    {
     "data": {
      "text/plain": [
       "merge_propensity_scores (generic function with 1 method)"
      ]
     },
     "metadata": {},
     "output_type": "display_data"
    }
   ],
   "source": [
    "function merge_propensity_scores(df, ps_df, on)\n",
    "    return leftjoin(df, ps_df, on = on)\n",
    "end"
   ]
  },
  {
   "cell_type": "code",
   "execution_count": 18,
   "metadata": {},
   "outputs": [
    {
     "data": {
      "text/html": [
       "<div class=\"data-frame\"><p>2,201 rows × 6 columns</p><table class=\"data-frame\"><thead><tr><th></th><th>id</th><th>Class</th><th>Sex</th><th>Age</th><th>Survived</th><th>propensityScore</th></tr><tr><th></th><th title=\"Float64\">Float64</th><th title=\"String\">String</th><th title=\"String\">String</th><th title=\"String\">String</th><th title=\"String\">String</th><th title=\"Union{Missing, Float64}\">Float64?</th></tr></thead><tbody><tr><th>1</th><td>1548.0</td><td>1st</td><td>Male</td><td>Adult</td><td>Yes</td><td>0.407038</td></tr><tr><th>2</th><td>2037.0</td><td>2nd</td><td>Female</td><td>Adult</td><td>Yes</td><td>0.73609</td></tr><tr><th>3</th><td>95.0</td><td>1st</td><td>Male</td><td>Adult</td><td>No</td><td>0.407038</td></tr><tr><th>4</th><td>678.0</td><td>3rd</td><td>Male</td><td>Adult</td><td>No</td><td>0.103959</td></tr><tr><th>5</th><td>1632.0</td><td>3rd</td><td>Male</td><td>Adult</td><td>Yes</td><td>0.103959</td></tr><tr><th>6</th><td>492.0</td><td>3rd</td><td>Male</td><td>Adult</td><td>No</td><td>0.103959</td></tr><tr><th>7</th><td>773.0</td><td>Crew</td><td>Male</td><td>Adult</td><td>No</td><td>0.2255</td></tr><tr><th>8</th><td>475.0</td><td>3rd</td><td>Male</td><td>Adult</td><td>No</td><td>0.103959</td></tr><tr><th>9</th><td>1023.0</td><td>Crew</td><td>Male</td><td>Adult</td><td>No</td><td>0.2255</td></tr><tr><th>10</th><td>1044.0</td><td>Crew</td><td>Male</td><td>Adult</td><td>No</td><td>0.2255</td></tr><tr><th>11</th><td>1922.0</td><td>1st</td><td>Female</td><td>Adult</td><td>Yes</td><td>0.885323</td></tr><tr><th>12</th><td>320.0</td><td>2nd</td><td>Male</td><td>Adult</td><td>No</td><td>0.198719</td></tr><tr><th>13</th><td>1412.0</td><td>3rd</td><td>Female</td><td>Adult</td><td>No</td><td>0.566129</td></tr><tr><th>14</th><td>1664.0</td><td>3rd</td><td>Male</td><td>Adult</td><td>Yes</td><td>0.103959</td></tr><tr><th>15</th><td>1794.0</td><td>Crew</td><td>Male</td><td>Adult</td><td>Yes</td><td>0.2255</td></tr><tr><th>16</th><td>682.0</td><td>3rd</td><td>Male</td><td>Adult</td><td>No</td><td>0.103959</td></tr><tr><th>17</th><td>680.0</td><td>3rd</td><td>Male</td><td>Adult</td><td>No</td><td>0.103959</td></tr><tr><th>18</th><td>1941.0</td><td>1st</td><td>Female</td><td>Adult</td><td>Yes</td><td>0.885323</td></tr><tr><th>19</th><td>2038.0</td><td>2nd</td><td>Female</td><td>Adult</td><td>Yes</td><td>0.73609</td></tr><tr><th>20</th><td>110.0</td><td>1st</td><td>Male</td><td>Adult</td><td>No</td><td>0.407038</td></tr><tr><th>21</th><td>2054.0</td><td>2nd</td><td>Female</td><td>Adult</td><td>Yes</td><td>0.73609</td></tr><tr><th>22</th><td>1671.0</td><td>3rd</td><td>Male</td><td>Adult</td><td>Yes</td><td>0.103959</td></tr><tr><th>23</th><td>589.0</td><td>3rd</td><td>Male</td><td>Adult</td><td>No</td><td>0.103959</td></tr><tr><th>24</th><td>1685.0</td><td>3rd</td><td>Male</td><td>Adult</td><td>Yes</td><td>0.103959</td></tr><tr><th>&vellip;</th><td>&vellip;</td><td>&vellip;</td><td>&vellip;</td><td>&vellip;</td><td>&vellip;</td><td>&vellip;</td></tr></tbody></table></div>"
      ],
      "text/latex": [
       "\\begin{tabular}{r|cccccc}\n",
       "\t& id & Class & Sex & Age & Survived & propensityScore\\\\\n",
       "\t\\hline\n",
       "\t& Float64 & String & String & String & String & Float64?\\\\\n",
       "\t\\hline\n",
       "\t1 & 1548.0 & 1st & Male & Adult & Yes & 0.407038 \\\\\n",
       "\t2 & 2037.0 & 2nd & Female & Adult & Yes & 0.73609 \\\\\n",
       "\t3 & 95.0 & 1st & Male & Adult & No & 0.407038 \\\\\n",
       "\t4 & 678.0 & 3rd & Male & Adult & No & 0.103959 \\\\\n",
       "\t5 & 1632.0 & 3rd & Male & Adult & Yes & 0.103959 \\\\\n",
       "\t6 & 492.0 & 3rd & Male & Adult & No & 0.103959 \\\\\n",
       "\t7 & 773.0 & Crew & Male & Adult & No & 0.2255 \\\\\n",
       "\t8 & 475.0 & 3rd & Male & Adult & No & 0.103959 \\\\\n",
       "\t9 & 1023.0 & Crew & Male & Adult & No & 0.2255 \\\\\n",
       "\t10 & 1044.0 & Crew & Male & Adult & No & 0.2255 \\\\\n",
       "\t11 & 1922.0 & 1st & Female & Adult & Yes & 0.885323 \\\\\n",
       "\t12 & 320.0 & 2nd & Male & Adult & No & 0.198719 \\\\\n",
       "\t13 & 1412.0 & 3rd & Female & Adult & No & 0.566129 \\\\\n",
       "\t14 & 1664.0 & 3rd & Male & Adult & Yes & 0.103959 \\\\\n",
       "\t15 & 1794.0 & Crew & Male & Adult & Yes & 0.2255 \\\\\n",
       "\t16 & 682.0 & 3rd & Male & Adult & No & 0.103959 \\\\\n",
       "\t17 & 680.0 & 3rd & Male & Adult & No & 0.103959 \\\\\n",
       "\t18 & 1941.0 & 1st & Female & Adult & Yes & 0.885323 \\\\\n",
       "\t19 & 2038.0 & 2nd & Female & Adult & Yes & 0.73609 \\\\\n",
       "\t20 & 110.0 & 1st & Male & Adult & No & 0.407038 \\\\\n",
       "\t21 & 2054.0 & 2nd & Female & Adult & Yes & 0.73609 \\\\\n",
       "\t22 & 1671.0 & 3rd & Male & Adult & Yes & 0.103959 \\\\\n",
       "\t23 & 589.0 & 3rd & Male & Adult & No & 0.103959 \\\\\n",
       "\t24 & 1685.0 & 3rd & Male & Adult & Yes & 0.103959 \\\\\n",
       "\t$\\dots$ & $\\dots$ & $\\dots$ & $\\dots$ & $\\dots$ & $\\dots$ & $\\dots$ \\\\\n",
       "\\end{tabular}\n"
      ],
      "text/plain": [
       "\u001b[1m2201×6 DataFrame\u001b[0m\n",
       "\u001b[1m  Row \u001b[0m│\u001b[1m id      \u001b[0m\u001b[1m Class  \u001b[0m\u001b[1m Sex    \u001b[0m\u001b[1m Age    \u001b[0m\u001b[1m Survived \u001b[0m\u001b[1m propensityScore \u001b[0m\n",
       "\u001b[1m      \u001b[0m│\u001b[90m Float64 \u001b[0m\u001b[90m String \u001b[0m\u001b[90m String \u001b[0m\u001b[90m String \u001b[0m\u001b[90m String   \u001b[0m\u001b[90m Float64?        \u001b[0m\n",
       "──────┼────────────────────────────────────────────────────────────\n",
       "    1 │  1548.0  1st     Male    Adult   Yes              0.407038\n",
       "    2 │  2037.0  2nd     Female  Adult   Yes              0.73609\n",
       "    3 │    95.0  1st     Male    Adult   No               0.407038\n",
       "    4 │   678.0  3rd     Male    Adult   No               0.103959\n",
       "    5 │  1632.0  3rd     Male    Adult   Yes              0.103959\n",
       "    6 │   492.0  3rd     Male    Adult   No               0.103959\n",
       "    7 │   773.0  Crew    Male    Adult   No               0.2255\n",
       "    8 │   475.0  3rd     Male    Adult   No               0.103959\n",
       "  ⋮   │    ⋮       ⋮       ⋮       ⋮        ⋮             ⋮\n",
       " 2195 │   821.0  Crew    Male    Adult   No               0.2255\n",
       " 2196 │   118.0  1st     Male    Adult   No               0.407038\n",
       " 2197 │   293.0  2nd     Male    Adult   No               0.198719\n",
       " 2198 │  1245.0  Crew    Male    Adult   No               0.2255\n",
       " 2199 │  1490.0  Crew    Female  Adult   No               0.766054\n",
       " 2200 │   333.0  3rd     Male    Adult   No               0.103959\n",
       " 2201 │  1563.0  1st     Male    Adult   Yes              0.407038\n",
       "\u001b[36m                                                  2186 rows omitted\u001b[0m"
      ]
     },
     "metadata": {},
     "output_type": "display_data"
    }
   ],
   "source": [
    "types=[Float64, String, String, String, String]\n",
    "file = \"example_data/titanic.txt\"\n",
    "df = CSV.read(file, DataFrame; delim='\\t', header=true, types=types)\n",
    "df2, _ids, labels = make_dataset(df, \"id\", \"Survived\",\"Yes\",\"No\",[\"Class\",\"Sex\",\"Age\"])\n",
    "logit = fit_logit(df2,:Survived)\n",
    "ps = propensity_scores(df2, _ids, labels, logit, \"id\", \"Survived\", \"propensityScore\")\n",
    "merge_propensity_scores(df, ps, [\"id\",\"Survived\"])"
   ]
  },
  {
   "cell_type": "code",
   "execution_count": 82,
   "metadata": {},
   "outputs": [
    {
     "data": {
      "text/plain": [
       "get_matches (generic function with 1 method)"
      ]
     },
     "metadata": {},
     "output_type": "display_data"
    }
   ],
   "source": [
    "function get_matches(df, n, _id_col_name, label_col_name, ps_col_name, case, control, caliper)\n",
    "    cases = @subset(df, $label_col_name  .== case)\n",
    "    controls = @subset(df, $label_col_name  .== control)\n",
    "    controls = controls[:, \"propensityScore\"]\n",
    "    for (idx, row) in enumerate(eachrow(cases))\n",
    "        ps = row[ps_col_name]\n",
    "        diffs = (abs.(controls .- ps))\n",
    "        diffs = sort!(diffs[diffs .<= caliper])\n",
    "        if length(diffs) > 0\n",
    "            match_idx = findall(x -> x < caliper, diffs)[1:n]\n",
    "            deleteat!(controls, match_idx)\n",
    "            print(diffs[match_idx])\n",
    "        end\n",
    "    end\n",
    "end"
   ]
  },
  {
   "cell_type": "code",
   "execution_count": 84,
   "metadata": {},
   "outputs": [
    {
     "name": "stdout",
     "output_type": "stream",
     "text": [
      "[0.0][0.0][0.0][0.0][0.0][0.0][0.0][0.0][0.0][0.0][0.0][0.0][0.0][0.0][0.0][0.0][0.004337734805590188][0.0][0.0][0.0][0.0][0.0][0.0][0.0][0.0][0.0][0.0][0.0][0.0][0.0][0.0][0.0][0.0][0.0][0.0][0.0][0.0][0.0][0.0][0.0][0.0][0.0][0.0][0.0][0.0][0.0][0.010527251157794515][0.0][0.0][0.0][0.0][0.0][0.0][0.0][0.0][0.0][0.0][0.0][0.0][0.0][0.0][0.0][0.0][0.0][0.0][0.0][0.0][0.0][0.0][0.0][0.0][0.0][0.0][0.0][0.0][0.0][0.0][0.0][0.0][0.0][0.0][0.0][0.0][0.010527251157794515][0.0][0.0][0.0][0.0][0.0][0.0][0.004337734805590188][0.0][0.0][0.0][0.0][0.0][0.0][0.0][0.010527251157794515][0.0][0.0][0.0][0.0][0.0][0.004337734805590188][0.0][0.0][0.0][0.0][0.0][0.0][0.0][0.0][0.0][0.0][0.0][0.0][0.0][0.0][0.0][0.0][0.0][0.0][0.0][0.0][0.0][0.0][0.0][0.0][0.0][0.0][0.0][0.0][0.0][0.0][0.0][0.0][0.0][0.0][0.0][0.010527251157794515][0.0][0.0][0.0][0.0][0.0][0.0][0.0][0.0][0.0][0.0][0.0][0.0][0.0][0.0][0.0][0.0][0.0][0.0][0.0][0.0][0.0][0.0][0.0][0.0][0.0][0.004337734805590188][0.0][0.0][0.0][0.0][0.0][0.0][0.0][0.0][0.0][0.0][0.0][0.0][0.0][0.0][0.0][0.0][0.0][0.0][0.0][0.0][0.0][0.0][0.0][0.0][0.0][0.0][0.0][0.0][0.0][0.0][0.0][0.0][0.0][0.0][0.010527251157794515][0.0][0.0][0.0][0.0][0.0][0.0][0.0][0.0][0.0][0.0][0.0][0.0][0.0][0.0][0.0][0.0][0.0][0.0][0.0][0.0][0.0][0.0][0.0]"
     ]
    },
    {
     "name": "stdout",
     "output_type": "stream",
     "text": [
      "[0.0][0.0][0.0][0.0][0.0][0.0][0.0][0.0][0.0][0.0][0.0][0.0][0.0][0.0][0.0][0.0][0.0][0.0][0.0][0.0][0.0][0.0][0.004337734805590188][0.0][0.0][0.0][0.0][0.0][0.0][0.0][0.0][0.0][0.0][0.0][0.0][0.0][0.0][0.0][0.0][0.0][0.0][0.0][0.0][0.0][0.0][0.0][0.0][0.0][0.0][0.0][0.0][0.0][0.0][0.0][0.0][0.010527251157794515][0.0][0.0][0.0][0.0][0.0][0.0][0.0][0.0][0.0][0.0][0.004337734805590188][0.0][0.0][0.0][0.0][0.0][0.0][0.0][0.0][0.0][0.0][0.0][0.0][0.0][0.0][0.0][0.0][0.0][0.0][0.0][0.0][0.0][0.0][0.0][0.0][0.0][0.0][0.0][0.0][0.0][0.0][0.0][0.0][0.0][0.0][0.0][0.0][0.0][0.0][0.0][0.0][0.004337734805590188][0.0][0.0][0.0][0.0][0.0][0.0][0.0][0.0][0.0][0.0][0.0][0.0][0.0][0.0][0.0][0.0][0.0][0.0][0.0][0.0][0.0][0.0][0.0][0.0][0.0][0.0][0.0][0.004337734805590188][0.0][0.0][0.0][0.0][0.0][0.0][0.0][0.0][0.0][0.0][0.0][0.0][0.0][0.0][0.0][0.0][0.0][0.010527251157794515][0.0][0.0][0.0][0.0][0.0][0.0][0.0][0.0][0.0][0.0][0.0][0.0][0.0][0.0][0.0][0.0][0.0][0.010527251157794515][0.0][0.0][0.0][0.0][0.0][0.0][0.0][0.0][0.0][0.0][0.0][0.0][0.0][0.0][0.0][0.0][0.0][0.0][0.0][0.0][0.0][0.0][0.0][0.0][0.0][0.0][0.0][0.0][0.0][0.0][0.0][0.0][0.0][0.0][0.0][0.0][0.0][0.0][0.0][0.0][0.0][0.0][0.0][0.0][0.0][0.0][0.0][0.0][0.0][0.0][0.0][0.0][0.0][0.0][0.0][0.0][0.0][0.0][0.0][0.0][0.0][0.0][0.0][0.0][0.0][0.0][0.0][0.0][0.0][0.0][0.0][0.0][0.0][0.0][0.0][0.0][0.0][0.0][0.0][0.0][0.0][0.0][0.0][0.0][0.0][0.0][0.0][0.0][0.0][0.0][0.0][0.0][0.0][0.0][0.0][0.0][0.0][0.0][0.0][0.0][0.0][0.0][0.0][0.0][0.0][0.0][0.0][0.0][0.0][0.0][0.0][0.0][0.0][0.0][0.0][0.0][0.0][0.0][0.0][0.0][0.0][0.0][0.0][0.0][0.0][0.0][0.0][0.0][0.0][0.004337734805590188][0.004337734805590188][0.0][0.0][0.0][0.0][0.0][0.0][0.0][0.0][0.010527251157794515][0.0][0.0][0.0][0.0][0.0][0.0][0.0][0.0][0.0][0.0][0.0][0.0][0.0][0.0][0.0][0.0][0.0][0.0][0.0][0.0][0.0][0.0][0.0][0.0][0.0][0.0][0.010527251157794515][0.0][0.0][0.0][0.0][0.0][0.0][0.0][0.0][0.0][0.0][0.004337734805590188][0.0][0.0][0.0][0.004337734805590188][0.0][0.0][0.0][0.0]"
     ]
    },
    {
     "name": "stdout",
     "output_type": "stream",
     "text": [
      "[0.0][0.0][0.0][0.0][0.0][0.0][0.0][0.0][0.0][0.0][0.0][0.0][0.0][0.0][0.0][0.0][0.0][0.0][0.0][0.0][0.0][0.0][0.0][0.0][0.0][0.0][0.0][0.0][0.0][0.0][0.0][0.0][0.0][0.0][0.0][0.0][0.0][0.0][0.0][0.0][0.0][0.0][0.0][0.0][0.0][0.0][0.0][0.0][0.0][0.0][0.0][0.0][0.0][0.0][0.0][0.0][0.0][0.0][0.0][0.0][0.0][0.0][0.0][0.0][0.0][0.0][0.0][0.004337734805590188][0.0][0.0][0.0][0.0][0.010527251157794515][0.0][0.0][0.0][0.0][0.0][0.0][0.0][0.0][0.0][0.0][0.0][0.0][0.0][0.0][0.0][0.0][0.0][0.0][0.0][0.0][0.0][0.0][0.0][0.0][0.0][0.0][0.0][0.0][0.0][0.0][0.0][0.0][0.0][0.0][0.0][0.0][0.0][0.0][0.0][0.0][0.0][0.0][0.0][0.0][0.0][0.0][0.0][0.0][0.0]"
     ]
    }
   ],
   "source": [
    "get_matches(ps, 1, \"id\", \"Survived\", \"propensityScore\", \"Yes\", \"No\", 0.02)"
   ]
  },
  {
   "cell_type": "code",
   "execution_count": null,
   "metadata": {},
   "outputs": [],
   "source": [
    "KNN = @load KNNClassifier"
   ]
  },
  {
   "cell_type": "code",
   "execution_count": null,
   "metadata": {},
   "outputs": [],
   "source": [
    "knn = KNN()"
   ]
  },
  {
   "cell_type": "code",
   "execution_count": null,
   "metadata": {},
   "outputs": [],
   "source": [
    "evaluate(knn, ps[:,\"propensityScore\"])"
   ]
  },
  {
   "cell_type": "code",
   "execution_count": null,
   "metadata": {},
   "outputs": [],
   "source": [
    "ps[:,\"propensityScore\"]"
   ]
  },
  {
   "cell_type": "code",
   "execution_count": null,
   "metadata": {},
   "outputs": [],
   "source": [
    "info(\"KNNClassifier\")"
   ]
  },
  {
   "cell_type": "code",
   "execution_count": null,
   "metadata": {},
   "outputs": [],
   "source": [
    "X, y = @load_crabs"
   ]
  },
  {
   "cell_type": "code",
   "execution_count": null,
   "metadata": {},
   "outputs": [],
   "source": [
    "using NearestNeighbors\n",
    "data = rand(1, 5)\n",
    "k = 1\n",
    "points = rand(10)\n",
    "\n",
    "kdtree = KDTree(data)\n",
    "idxs, dists = knn(kdtree, points, k);"
   ]
  },
  {
   "cell_type": "code",
   "execution_count": null,
   "metadata": {},
   "outputs": [],
   "source": [
    "# println(points)\n",
    "println(idxs)"
   ]
  },
  {
   "cell_type": "code",
   "execution_count": null,
   "metadata": {},
   "outputs": [],
   "source": [
    "poi"
   ]
  }
 ],
 "metadata": {
  "kernelspec": {
   "display_name": "Julia 1.7.3",
   "language": "julia",
   "name": "julia-1.7"
  },
  "language_info": {
   "file_extension": ".jl",
   "mimetype": "application/julia",
   "name": "julia",
   "version": "1.7.3"
  },
  "orig_nbformat": 4
 },
 "nbformat": 4,
 "nbformat_minor": 2
}
