{
 "cells": [
  {
   "cell_type": "code",
   "execution_count": 108,
   "metadata": {},
   "outputs": [],
   "source": [
    "using DataFrames\n",
    "using GLM\n",
    "using CSV"
   ]
  },
  {
   "cell_type": "code",
   "execution_count": 109,
   "metadata": {},
   "outputs": [
    {
     "data": {
      "text/html": [
       "<div class=\"data-frame\"><p>2,201 rows × 5 columns</p><table class=\"data-frame\"><thead><tr><th></th><th>Class</th><th>Sex</th><th>Age</th><th>Survived</th><th>Age_Num</th></tr><tr><th></th><th title=\"String\">String</th><th title=\"String\">String</th><th title=\"String\">String</th><th title=\"Bool\">Bool</th><th title=\"Float64\">Float64</th></tr></thead><tbody><tr><th>1</th><td>3rd</td><td>Male</td><td>Child</td><td>0</td><td>12.8909</td></tr><tr><th>2</th><td>3rd</td><td>Male</td><td>Child</td><td>0</td><td>12.8909</td></tr><tr><th>3</th><td>3rd</td><td>Male</td><td>Child</td><td>0</td><td>12.8909</td></tr><tr><th>4</th><td>3rd</td><td>Male</td><td>Child</td><td>0</td><td>12.8909</td></tr><tr><th>5</th><td>3rd</td><td>Male</td><td>Child</td><td>0</td><td>12.8909</td></tr><tr><th>6</th><td>3rd</td><td>Male</td><td>Child</td><td>0</td><td>12.8909</td></tr><tr><th>7</th><td>3rd</td><td>Male</td><td>Child</td><td>0</td><td>12.8909</td></tr><tr><th>8</th><td>3rd</td><td>Male</td><td>Child</td><td>0</td><td>12.8909</td></tr><tr><th>9</th><td>3rd</td><td>Male</td><td>Child</td><td>0</td><td>12.8909</td></tr><tr><th>10</th><td>3rd</td><td>Male</td><td>Child</td><td>0</td><td>12.8909</td></tr><tr><th>11</th><td>3rd</td><td>Male</td><td>Child</td><td>0</td><td>12.8909</td></tr><tr><th>12</th><td>3rd</td><td>Male</td><td>Child</td><td>0</td><td>12.8909</td></tr><tr><th>13</th><td>3rd</td><td>Male</td><td>Child</td><td>0</td><td>12.8909</td></tr><tr><th>14</th><td>3rd</td><td>Male</td><td>Child</td><td>0</td><td>12.8909</td></tr><tr><th>15</th><td>3rd</td><td>Male</td><td>Child</td><td>0</td><td>12.8909</td></tr><tr><th>16</th><td>3rd</td><td>Male</td><td>Child</td><td>0</td><td>12.8909</td></tr><tr><th>17</th><td>3rd</td><td>Male</td><td>Child</td><td>0</td><td>12.8909</td></tr><tr><th>18</th><td>3rd</td><td>Male</td><td>Child</td><td>0</td><td>12.8909</td></tr><tr><th>19</th><td>3rd</td><td>Male</td><td>Child</td><td>0</td><td>12.8909</td></tr><tr><th>20</th><td>3rd</td><td>Male</td><td>Child</td><td>0</td><td>12.8909</td></tr><tr><th>21</th><td>3rd</td><td>Male</td><td>Child</td><td>0</td><td>12.8909</td></tr><tr><th>22</th><td>3rd</td><td>Male</td><td>Child</td><td>0</td><td>12.8909</td></tr><tr><th>23</th><td>3rd</td><td>Male</td><td>Child</td><td>0</td><td>12.8909</td></tr><tr><th>24</th><td>3rd</td><td>Male</td><td>Child</td><td>0</td><td>12.8909</td></tr><tr><th>&vellip;</th><td>&vellip;</td><td>&vellip;</td><td>&vellip;</td><td>&vellip;</td><td>&vellip;</td></tr></tbody></table></div>"
      ],
      "text/latex": [
       "\\begin{tabular}{r|ccccc}\n",
       "\t& Class & Sex & Age & Survived & Age\\_Num\\\\\n",
       "\t\\hline\n",
       "\t& String & String & String & Bool & Float64\\\\\n",
       "\t\\hline\n",
       "\t1 & 3rd & Male & Child & 0 & 12.8909 \\\\\n",
       "\t2 & 3rd & Male & Child & 0 & 12.8909 \\\\\n",
       "\t3 & 3rd & Male & Child & 0 & 12.8909 \\\\\n",
       "\t4 & 3rd & Male & Child & 0 & 12.8909 \\\\\n",
       "\t5 & 3rd & Male & Child & 0 & 12.8909 \\\\\n",
       "\t6 & 3rd & Male & Child & 0 & 12.8909 \\\\\n",
       "\t7 & 3rd & Male & Child & 0 & 12.8909 \\\\\n",
       "\t8 & 3rd & Male & Child & 0 & 12.8909 \\\\\n",
       "\t9 & 3rd & Male & Child & 0 & 12.8909 \\\\\n",
       "\t10 & 3rd & Male & Child & 0 & 12.8909 \\\\\n",
       "\t11 & 3rd & Male & Child & 0 & 12.8909 \\\\\n",
       "\t12 & 3rd & Male & Child & 0 & 12.8909 \\\\\n",
       "\t13 & 3rd & Male & Child & 0 & 12.8909 \\\\\n",
       "\t14 & 3rd & Male & Child & 0 & 12.8909 \\\\\n",
       "\t15 & 3rd & Male & Child & 0 & 12.8909 \\\\\n",
       "\t16 & 3rd & Male & Child & 0 & 12.8909 \\\\\n",
       "\t17 & 3rd & Male & Child & 0 & 12.8909 \\\\\n",
       "\t18 & 3rd & Male & Child & 0 & 12.8909 \\\\\n",
       "\t19 & 3rd & Male & Child & 0 & 12.8909 \\\\\n",
       "\t20 & 3rd & Male & Child & 0 & 12.8909 \\\\\n",
       "\t21 & 3rd & Male & Child & 0 & 12.8909 \\\\\n",
       "\t22 & 3rd & Male & Child & 0 & 12.8909 \\\\\n",
       "\t23 & 3rd & Male & Child & 0 & 12.8909 \\\\\n",
       "\t24 & 3rd & Male & Child & 0 & 12.8909 \\\\\n",
       "\t$\\dots$ & $\\dots$ & $\\dots$ & $\\dots$ & $\\dots$ & $\\dots$ \\\\\n",
       "\\end{tabular}\n"
      ],
      "text/plain": [
       "\u001b[1m2201×5 DataFrame\u001b[0m\n",
       "\u001b[1m  Row \u001b[0m│\u001b[1m Class  \u001b[0m\u001b[1m Sex    \u001b[0m\u001b[1m Age    \u001b[0m\u001b[1m Survived \u001b[0m\u001b[1m Age_Num  \u001b[0m\n",
       "\u001b[1m      \u001b[0m│\u001b[90m String \u001b[0m\u001b[90m String \u001b[0m\u001b[90m String \u001b[0m\u001b[90m Bool     \u001b[0m\u001b[90m Float64  \u001b[0m\n",
       "──────┼────────────────────────────────────────────\n",
       "    1 │ 3rd     Male    Child      false   12.8909\n",
       "    2 │ 3rd     Male    Child      false   12.8909\n",
       "    3 │ 3rd     Male    Child      false   12.8909\n",
       "    4 │ 3rd     Male    Child      false   12.8909\n",
       "    5 │ 3rd     Male    Child      false   12.8909\n",
       "    6 │ 3rd     Male    Child      false   12.8909\n",
       "    7 │ 3rd     Male    Child      false   12.8909\n",
       "    8 │ 3rd     Male    Child      false   12.8909\n",
       "  ⋮   │   ⋮       ⋮       ⋮        ⋮         ⋮\n",
       " 2195 │ Crew    Female  Adult       true  -99.0\n",
       " 2196 │ Crew    Female  Adult       true  -99.0\n",
       " 2197 │ Crew    Female  Adult       true  -99.0\n",
       " 2198 │ Crew    Female  Adult       true  -99.0\n",
       " 2199 │ Crew    Female  Adult       true  -99.0\n",
       " 2200 │ Crew    Female  Adult       true  -99.0\n",
       " 2201 │ Crew    Female  Adult       true  -99.0\n",
       "\u001b[36m                                  2186 rows omitted\u001b[0m"
      ]
     },
     "metadata": {},
     "output_type": "display_data"
    }
   ],
   "source": [
    "# figure out how to read in types\n",
    "#data = vec(readdlm(\"coltypes.csv\", ',', String))\n",
    "df = CSV.read(\"titanic.txt\", DataFrame; delim='\\t', header=true, \n",
    "types=[String,String,String,Bool,Float64])\n",
    "# data"
   ]
  },
  {
   "cell_type": "code",
   "execution_count": 117,
   "metadata": {},
   "outputs": [
    {
     "data": {
      "text/plain": [
       "2201-element Vector{Float64}:\n",
       " 0.2511585689678294\n",
       " 0.2511585689678294\n",
       " 0.2511585689678294\n",
       " 0.2511585689678294\n",
       " 0.2511585689678294\n",
       " 0.2511585689678294\n",
       " 0.2511585689678294\n",
       " 0.2511585689678294\n",
       " 0.2511585689678294\n",
       " 0.2511585689678294\n",
       " ⋮\n",
       " 0.7660538069978157\n",
       " 0.7660538069978157\n",
       " 0.7660538069978157\n",
       " 0.7660538069978157\n",
       " 0.7660538069978157\n",
       " 0.7660538069978157\n",
       " 0.7660538069978157\n",
       " 0.7660538069978157\n",
       " 0.7660538069978157"
      ]
     },
     "metadata": {},
     "output_type": "display_data"
    }
   ],
   "source": [
    "logit = glm(@formula(Survived ~ Sex + Class + Age), df, Binomial(), LogitLink())\n",
    "predict(logit)"
   ]
  },
  {
   "cell_type": "code",
   "execution_count": 115,
   "metadata": {},
   "outputs": [],
   "source": []
  },
  {
   "cell_type": "code",
   "execution_count": 112,
   "metadata": {},
   "outputs": [],
   "source": []
  }
 ],
 "metadata": {
  "kernelspec": {
   "display_name": "Julia 1.7.3",
   "language": "julia",
   "name": "julia-1.7"
  },
  "language_info": {
   "file_extension": ".jl",
   "mimetype": "application/julia",
   "name": "julia",
   "version": "1.7.3"
  },
  "orig_nbformat": 4
 },
 "nbformat": 4,
 "nbformat_minor": 2
}
