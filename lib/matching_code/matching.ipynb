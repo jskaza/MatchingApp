{
 "cells": [
  {
   "cell_type": "code",
   "execution_count": 32,
   "metadata": {},
   "outputs": [],
   "source": [
    "using DataFrames\n",
    "using DataFramesMeta\n",
    "using GLM\n",
    "using CSV\n",
    "using StatsFuns\n",
    "using Statistics"
   ]
  },
  {
   "cell_type": "code",
   "execution_count": 44,
   "metadata": {},
   "outputs": [],
   "source": [
    "# TODO\n",
    "# figure out how to read in types\n",
    "#data = vec(readdlm(\"coltypes.csv\", ',', String))\n",
    "#add type validations df::DataFrame\n",
    "# add exceptions for unique ids, etc\n",
    "# deal with missings\n",
    "# replacement\n",
    "# exact covariates\n",
    "# iptw"
   ]
  },
  {
   "cell_type": "code",
   "execution_count": 34,
   "metadata": {},
   "outputs": [
    {
     "data": {
      "text/plain": [
       "make_dataset"
      ]
     },
     "metadata": {},
     "output_type": "display_data"
    }
   ],
   "source": [
    "\"\"\"\n",
    "    make_dataset(df, _id_col_name, label_col_name, case, control, X)\n",
    "\n",
    "Return a DataFrame containg only the identifier column, label column, and covariates\n",
    "\n",
    "# Arguments\n",
    "- `df::DataFrame`: DataFrame to be manipulated\n",
    "- `_id_col_name:String`: Name of column containing _id's\n",
    "- `label_col_name:String`: Name of column containing labels\n",
    "- `case:String`: Label which represents case status\n",
    "- `control:String`: Label which represents control status\n",
    "\"\"\"\n",
    "function make_dataset(df, _id_col_name, label_col_name, case, control, X)\n",
    "    @subset!(df, $label_col_name  .== case .|| $label_col_name .== control)\n",
    "    df = df[:, vcat(_id_col_name, label_col_name, X)]\n",
    "    return df\n",
    "end"
   ]
  },
  {
   "cell_type": "code",
   "execution_count": 35,
   "metadata": {},
   "outputs": [
    {
     "data": {
      "text/plain": [
       "fit_logit"
      ]
     },
     "metadata": {},
     "output_type": "display_data"
    }
   ],
   "source": [
    "\"\"\"\n",
    "    fit_logit(df, label)\n",
    "\n",
    "Return results from a logit model of `label` ~ rest of cols\n",
    "\"\"\"\n",
    "function fit_logit(df, _id_col_name, label_col_name, case)\n",
    "    df = @transform(df, $label_col_name = ($label_col_name .== case))\n",
    "    X = term.(names(df[:, Not([_id_col_name,label_col_name])]))\n",
    "    mod = glm(term(label_col_name) ~ foldl(+, X), df, Binomial(), LogitLink())\n",
    "    return mod\n",
    "end"
   ]
  },
  {
   "cell_type": "code",
   "execution_count": 36,
   "metadata": {},
   "outputs": [
    {
     "data": {
      "text/plain": [
       "propensity_scores"
      ]
     },
     "metadata": {},
     "output_type": "display_data"
    }
   ],
   "source": [
    "\"\"\"\n",
    "    propensity_scores(df, _id, labels, model, _id_col_name=\"_id\", label_colname=\"Label\", ps_col_name=\"propensityScore\")\n",
    "\n",
    "Add propensity score column to DataFrame\n",
    "\n",
    "# Arguments\n",
    "- `df::DataFrame`: DataFrame to append column\n",
    "- `_id:String`: Name of column containing _id's\n",
    "- `label_col_name:String`: Name of column containing labels\n",
    "- `case:String`: Label which represents case status\n",
    "- `control:String`: Label which represents control status\n",
    "\"\"\"\n",
    "function propensity_scores(df, model, _id_col_name, label_col_name; ps_col_name=\"propensityScore\")\n",
    "    ps = DataFrame(ps_col_name => predict(model))\n",
    "    return hcat(df[:, [_id_col_name,label_col_name]], ps)\n",
    "end"
   ]
  },
  {
   "cell_type": "code",
   "execution_count": 37,
   "metadata": {},
   "outputs": [
    {
     "data": {
      "text/plain": [
       "greedy_match (generic function with 1 method)"
      ]
     },
     "metadata": {},
     "output_type": "display_data"
    }
   ],
   "source": [
    "function greedy_match(df,n,exact,replacement,_id_col_name,label_col_name,ps_col_name,case,control;caliper=\"calc\")\n",
    "    if caliper == \"calc\"\n",
    "        caliper = 0.2*std(logit.(df[:, ps_col_name]))\n",
    "    end\n",
    "    cases = @subset(df, $label_col_name .== case)\n",
    "    ps_cases = collect(enumerate(cases[:, ps_col_name]))\n",
    "    controls = @subset(df, $label_col_name .== control)\n",
    "    ps_controls = collect(enumerate(controls[:, ps_col_name]))\n",
    "    cases_to_drop = []\n",
    "    if replacement\n",
    "        controls_to_keep = []\n",
    "    end\n",
    "    for ps in ps_cases\n",
    "        diffs = (abs.(last.(ps_controls) .- last(ps)))\n",
    "        candidate_idx, candidate_diffs = (findall(x -> x <= caliper, diffs), diffs[diffs .<= caliper])\n",
    "        if length(candidate_idx) >= n\n",
    "            sorted_candidates = sort(collect(zip(candidate_idx, candidate_diffs)); by=last)\n",
    "            matches = sorted_candidates[1:n]\n",
    "            !replacement ? deleteat!(ps_controls, sort(first.(matches))) : append!(controls_to_keep, first.(matches))\n",
    "        elseif length(candidate_idx) > 0 && !exact\n",
    "            matches = candidate_idx\n",
    "            !replacement ? deleteat!(ps_controls, sort(candidate_idx)) : append!(controls_to_keep, first.(matches))\n",
    "        else\n",
    "            append!(cases_to_drop, first(ps))\n",
    "        end\n",
    "    end\n",
    "    if replacement\n",
    "        return vcat(cases[Not(cases_to_drop), :], controls[controls_to_keep, :])\n",
    "    else\n",
    "        return vcat(cases[Not(cases_to_drop), :], controls[Not(first.(ps_controls)), :])\n",
    "    end\n",
    "end"
   ]
  },
  {
   "cell_type": "code",
   "execution_count": 38,
   "metadata": {},
   "outputs": [
    {
     "data": {
      "text/plain": [
       "merge_propensity_scores (generic function with 1 method)"
      ]
     },
     "metadata": {},
     "output_type": "display_data"
    }
   ],
   "source": [
    "function merge_propensity_scores(df, ps_df, on)\n",
    "    return leftjoin(df, ps_df, on = on)\n",
    "end"
   ]
  },
  {
   "cell_type": "code",
   "execution_count": 39,
   "metadata": {},
   "outputs": [
    {
     "data": {
      "text/plain": [
       "add_matches (generic function with 1 method)"
      ]
     },
     "metadata": {},
     "output_type": "display_data"
    }
   ],
   "source": [
    "function add_matches(df, match_df, _id_col_name, label_col_name)\n",
    "    to_add = df[findall(in(match_df[:, _id_col_name]), df[:, _id_col_name]), :]\n",
    "    to_add[:, label_col_name] = string.(to_add[:, label_col_name],\" Matched\")\n",
    "    return vcat(df, to_add)\n",
    "end"
   ]
  },
  {
   "cell_type": "code",
   "execution_count": 40,
   "metadata": {},
   "outputs": [],
   "source": [
    "# types = [Float64, String, String, Float64, Float64,Float64, Float64, Float64]\n",
    "# file = \"example_data/crabs.txt\"\n",
    "# df = CSV.read(file, DataFrame; delim = '\\t', header = true, types = types)\n",
    "# ps_df = make_dataset(df, \"id\", \"sp\",\"B\",\"O\",[\"sex\",\"FL\",\"RW\",\"BD\"])\n",
    "# mod = fit_logit(ps_df,\"id\",\"sp\", \"B\")\n",
    "# ps_df = propensity_scores(ps_df, mod, \"id\", \"sp\")\n",
    "# match_df = greedy_match(ps_df, 1, true, false, \"id\", \"sp\", \"propensityScore\", \"B\", \"O\", caliper=1)\n",
    "# df = merge_propensity_scores(df, ps_df, [\"id\",\"sp\"])\n",
    "# df = add_matches(df, match_df, \"id\", \"sp\")\n",
    "# return"
   ]
  },
  {
   "cell_type": "code",
   "execution_count": 41,
   "metadata": {},
   "outputs": [
    {
     "data": {
      "text/plain": [
       "main (generic function with 1 method)"
      ]
     },
     "metadata": {},
     "output_type": "display_data"
    }
   ],
   "source": [
    "function main(file,types,\n",
    "              _id_col_name,label_col_name,case,control,covariates,\n",
    "              n,n_exact,replacement;\n",
    "              ps_col_name=\"propensityScore\",caliper=\"calc\")\n",
    "    df = CSV.read(file, DataFrame; delim = '\\t', header = true, types = types)\n",
    "    ps_df = make_dataset(df, _id_col_name, label_col_name, case, control, covariates)\n",
    "    mod = fit_logit(ps_df, _id_col_name, label_col_name, case)\n",
    "    ps_df = propensity_scores(ps_df, mod, _id_col_name, label_col_name, ps_col_name=ps_col_name)\n",
    "    match_df = greedy_match(ps_df, n, n_exact, replacement, _id_col_name, label_col_name, ps_col_name, case, control, caliper=caliper)\n",
    "    df = merge_propensity_scores(df, ps_df, [_id_col_name, label_col_name])\n",
    "    return add_matches(df, match_df, _id_col_name, label_col_name)\n",
    "end"
   ]
  },
  {
   "cell_type": "code",
   "execution_count": 42,
   "metadata": {},
   "outputs": [
    {
     "data": {
      "text/html": [
       "<div class=\"data-frame\"><p>1,396 rows × 9 columns</p><table class=\"data-frame\"><thead><tr><th></th><th>id</th><th>sp</th><th>sex</th><th>FL</th><th>RW</th><th>CL</th><th>CW</th><th>BD</th><th>propensityScore</th></tr><tr><th></th><th title=\"Float64\">Float64</th><th title=\"String\">String</th><th title=\"String\">String</th><th title=\"Float64\">Float64</th><th title=\"Float64\">Float64</th><th title=\"Float64\">Float64</th><th title=\"Float64\">Float64</th><th title=\"Float64\">Float64</th><th title=\"Union{Missing, Float64}\">Float64?</th></tr></thead><tbody><tr><th>1</th><td>1.0</td><td>B</td><td>M</td><td>8.1</td><td>6.7</td><td>16.1</td><td>19.0</td><td>7.0</td><td>0.533401</td></tr><tr><th>2</th><td>2.0</td><td>B</td><td>M</td><td>8.8</td><td>7.7</td><td>18.1</td><td>20.8</td><td>7.4</td><td>0.708732</td></tr><tr><th>3</th><td>3.0</td><td>B</td><td>M</td><td>9.2</td><td>7.8</td><td>19.0</td><td>22.4</td><td>7.7</td><td>0.604978</td></tr><tr><th>4</th><td>4.0</td><td>B</td><td>M</td><td>9.6</td><td>7.9</td><td>20.1</td><td>23.1</td><td>8.2</td><td>0.476071</td></tr><tr><th>5</th><td>5.0</td><td>B</td><td>M</td><td>9.8</td><td>8.0</td><td>20.3</td><td>23.0</td><td>8.2</td><td>0.452558</td></tr><tr><th>6</th><td>6.0</td><td>B</td><td>M</td><td>10.8</td><td>9.0</td><td>23.0</td><td>26.5</td><td>9.8</td><td>0.447934</td></tr><tr><th>7</th><td>7.0</td><td>B</td><td>M</td><td>11.1</td><td>9.9</td><td>23.8</td><td>27.1</td><td>9.8</td><td>0.738642</td></tr><tr><th>8</th><td>8.0</td><td>B</td><td>M</td><td>11.6</td><td>9.1</td><td>24.5</td><td>28.4</td><td>10.4</td><td>0.21077</td></tr><tr><th>9</th><td>9.0</td><td>B</td><td>M</td><td>11.8</td><td>9.6</td><td>24.2</td><td>27.8</td><td>9.7</td><td>0.385342</td></tr><tr><th>10</th><td>10.0</td><td>B</td><td>M</td><td>11.8</td><td>10.5</td><td>25.2</td><td>29.3</td><td>10.3</td><td>0.735677</td></tr><tr><th>11</th><td>11.0</td><td>B</td><td>M</td><td>12.2</td><td>10.8</td><td>27.3</td><td>31.6</td><td>10.9</td><td>0.699024</td></tr><tr><th>12</th><td>12.0</td><td>B</td><td>M</td><td>12.3</td><td>11.0</td><td>26.8</td><td>31.5</td><td>11.4</td><td>0.7162</td></tr><tr><th>13</th><td>13.0</td><td>B</td><td>M</td><td>12.6</td><td>10.0</td><td>27.7</td><td>31.7</td><td>11.4</td><td>0.206344</td></tr><tr><th>14</th><td>14.0</td><td>B</td><td>M</td><td>12.8</td><td>10.2</td><td>27.2</td><td>31.8</td><td>10.9</td><td>0.248111</td></tr><tr><th>15</th><td>15.0</td><td>B</td><td>M</td><td>12.8</td><td>10.9</td><td>27.4</td><td>31.5</td><td>11.0</td><td>0.539635</td></tr><tr><th>16</th><td>16.0</td><td>B</td><td>M</td><td>12.9</td><td>11.0</td><td>26.8</td><td>30.9</td><td>11.4</td><td>0.521521</td></tr><tr><th>17</th><td>17.0</td><td>B</td><td>M</td><td>13.1</td><td>10.6</td><td>28.2</td><td>32.3</td><td>11.0</td><td>0.306442</td></tr><tr><th>18</th><td>18.0</td><td>B</td><td>M</td><td>13.1</td><td>10.9</td><td>28.3</td><td>32.4</td><td>11.2</td><td>0.420686</td></tr><tr><th>19</th><td>19.0</td><td>B</td><td>M</td><td>13.3</td><td>11.1</td><td>27.8</td><td>32.3</td><td>11.3</td><td>0.435675</td></tr><tr><th>20</th><td>20.0</td><td>B</td><td>M</td><td>13.9</td><td>11.1</td><td>29.2</td><td>33.3</td><td>12.1</td><td>0.208414</td></tr><tr><th>21</th><td>21.0</td><td>B</td><td>M</td><td>14.3</td><td>11.6</td><td>31.3</td><td>35.5</td><td>12.7</td><td>0.241427</td></tr><tr><th>22</th><td>22.0</td><td>B</td><td>M</td><td>14.6</td><td>11.3</td><td>31.9</td><td>36.4</td><td>13.7</td><td>0.0819731</td></tr><tr><th>23</th><td>23.0</td><td>B</td><td>M</td><td>15.0</td><td>10.9</td><td>31.4</td><td>36.4</td><td>13.2</td><td>0.0274087</td></tr><tr><th>24</th><td>24.0</td><td>B</td><td>M</td><td>15.0</td><td>11.5</td><td>32.4</td><td>37.0</td><td>13.4</td><td>0.0747201</td></tr><tr><th>&vellip;</th><td>&vellip;</td><td>&vellip;</td><td>&vellip;</td><td>&vellip;</td><td>&vellip;</td><td>&vellip;</td><td>&vellip;</td><td>&vellip;</td><td>&vellip;</td></tr></tbody></table></div>"
      ],
      "text/latex": [
       "\\begin{tabular}{r|ccccccccc}\n",
       "\t& id & sp & sex & FL & RW & CL & CW & BD & propensityScore\\\\\n",
       "\t\\hline\n",
       "\t& Float64 & String & String & Float64 & Float64 & Float64 & Float64 & Float64 & Float64?\\\\\n",
       "\t\\hline\n",
       "\t1 & 1.0 & B & M & 8.1 & 6.7 & 16.1 & 19.0 & 7.0 & 0.533401 \\\\\n",
       "\t2 & 2.0 & B & M & 8.8 & 7.7 & 18.1 & 20.8 & 7.4 & 0.708732 \\\\\n",
       "\t3 & 3.0 & B & M & 9.2 & 7.8 & 19.0 & 22.4 & 7.7 & 0.604978 \\\\\n",
       "\t4 & 4.0 & B & M & 9.6 & 7.9 & 20.1 & 23.1 & 8.2 & 0.476071 \\\\\n",
       "\t5 & 5.0 & B & M & 9.8 & 8.0 & 20.3 & 23.0 & 8.2 & 0.452558 \\\\\n",
       "\t6 & 6.0 & B & M & 10.8 & 9.0 & 23.0 & 26.5 & 9.8 & 0.447934 \\\\\n",
       "\t7 & 7.0 & B & M & 11.1 & 9.9 & 23.8 & 27.1 & 9.8 & 0.738642 \\\\\n",
       "\t8 & 8.0 & B & M & 11.6 & 9.1 & 24.5 & 28.4 & 10.4 & 0.21077 \\\\\n",
       "\t9 & 9.0 & B & M & 11.8 & 9.6 & 24.2 & 27.8 & 9.7 & 0.385342 \\\\\n",
       "\t10 & 10.0 & B & M & 11.8 & 10.5 & 25.2 & 29.3 & 10.3 & 0.735677 \\\\\n",
       "\t11 & 11.0 & B & M & 12.2 & 10.8 & 27.3 & 31.6 & 10.9 & 0.699024 \\\\\n",
       "\t12 & 12.0 & B & M & 12.3 & 11.0 & 26.8 & 31.5 & 11.4 & 0.7162 \\\\\n",
       "\t13 & 13.0 & B & M & 12.6 & 10.0 & 27.7 & 31.7 & 11.4 & 0.206344 \\\\\n",
       "\t14 & 14.0 & B & M & 12.8 & 10.2 & 27.2 & 31.8 & 10.9 & 0.248111 \\\\\n",
       "\t15 & 15.0 & B & M & 12.8 & 10.9 & 27.4 & 31.5 & 11.0 & 0.539635 \\\\\n",
       "\t16 & 16.0 & B & M & 12.9 & 11.0 & 26.8 & 30.9 & 11.4 & 0.521521 \\\\\n",
       "\t17 & 17.0 & B & M & 13.1 & 10.6 & 28.2 & 32.3 & 11.0 & 0.306442 \\\\\n",
       "\t18 & 18.0 & B & M & 13.1 & 10.9 & 28.3 & 32.4 & 11.2 & 0.420686 \\\\\n",
       "\t19 & 19.0 & B & M & 13.3 & 11.1 & 27.8 & 32.3 & 11.3 & 0.435675 \\\\\n",
       "\t20 & 20.0 & B & M & 13.9 & 11.1 & 29.2 & 33.3 & 12.1 & 0.208414 \\\\\n",
       "\t21 & 21.0 & B & M & 14.3 & 11.6 & 31.3 & 35.5 & 12.7 & 0.241427 \\\\\n",
       "\t22 & 22.0 & B & M & 14.6 & 11.3 & 31.9 & 36.4 & 13.7 & 0.0819731 \\\\\n",
       "\t23 & 23.0 & B & M & 15.0 & 10.9 & 31.4 & 36.4 & 13.2 & 0.0274087 \\\\\n",
       "\t24 & 24.0 & B & M & 15.0 & 11.5 & 32.4 & 37.0 & 13.4 & 0.0747201 \\\\\n",
       "\t$\\dots$ & $\\dots$ & $\\dots$ & $\\dots$ & $\\dots$ & $\\dots$ & $\\dots$ & $\\dots$ & $\\dots$ & $\\dots$ \\\\\n",
       "\\end{tabular}\n"
      ],
      "text/plain": [
       "\u001b[1m1396×9 DataFrame\u001b[0m\n",
       "\u001b[1m  Row \u001b[0m│\u001b[1m id      \u001b[0m\u001b[1m sp        \u001b[0m\u001b[1m sex    \u001b[0m\u001b[1m FL       \u001b[0m\u001b[1m RW       \u001b[0m\u001b[1m CL      \u001b[0m\u001b[1m CW      \u001b[0m\u001b[1m BD  \u001b[0m ⋯\n",
       "\u001b[1m      \u001b[0m│\u001b[90m Float64 \u001b[0m\u001b[90m String    \u001b[0m\u001b[90m String \u001b[0m\u001b[90m Float64  \u001b[0m\u001b[90m Float64  \u001b[0m\u001b[90m Float64 \u001b[0m\u001b[90m Float64 \u001b[0m\u001b[90m Floa\u001b[0m ⋯\n",
       "──────┼─────────────────────────────────────────────────────────────────────────\n",
       "    1 │     1.0  B          M        8.1       6.7      16.1     19.0      7.0 ⋯\n",
       "    2 │     2.0  B          M        8.8       7.7      18.1     20.8      7.4\n",
       "    3 │     3.0  B          M        9.2       7.8      19.0     22.4      7.7\n",
       "    4 │     4.0  B          M        9.6       7.9      20.1     23.1      8.2\n",
       "    5 │     5.0  B          M        9.8       8.0      20.3     23.0      8.2 ⋯\n",
       "    6 │     6.0  B          M       10.8       9.0      23.0     26.5      9.8\n",
       "    7 │     7.0  B          M       11.1       9.9      23.8     27.1      9.8\n",
       "    8 │     8.0  B          M       11.6       9.1      24.5     28.4     10.4\n",
       "  ⋮   │    ⋮         ⋮        ⋮        ⋮         ⋮         ⋮        ⋮        ⋮ ⋱\n",
       " 1390 │  1141.0  O Matched  F       14.0166   12.7912   28.7875  32.3951  12.6 ⋯\n",
       " 1391 │  1157.0  O Matched  M        9.09165   6.91856  16.6927  18.5853   7.4\n",
       " 1392 │  1167.0  O Matched  F       14.6804   13.1976   29.596   33.3925  12.9\n",
       " 1393 │  1168.0  O Matched  M       14.2059   11.2998   29.2175  32.2074  13.4\n",
       " 1394 │  1173.0  O Matched  F       15.6124   13.5056   31.2074  35.0968  14.1 ⋯\n",
       " 1395 │  1188.0  O Matched  F       14.7098   13.1964   29.5973  33.4168  12.8\n",
       " 1396 │  1192.0  O Matched  M       15.103    11.3897   30.1967  33.3173  14.0\n",
       "\u001b[36m                                                 2 columns and 1381 rows omitted\u001b[0m"
      ]
     },
     "metadata": {},
     "output_type": "display_data"
    }
   ],
   "source": [
    "types = [Float64, String, String, Float64, Float64,Float64, Float64, Float64]\n",
    "file = \"example_data/crabs.txt\"\n",
    "X = [\"sex\",\"FL\",\"RW\",\"BD\"]\n",
    "main(file,types,\"id\",\"sp\",\"B\",\"O\",X,1,true,false)"
   ]
  },
  {
   "cell_type": "code",
   "execution_count": 43,
   "metadata": {},
   "outputs": [],
   "source": []
  }
 ],
 "metadata": {
  "kernelspec": {
   "display_name": "Julia 1.7.3",
   "language": "julia",
   "name": "julia-1.7"
  },
  "language_info": {
   "file_extension": ".jl",
   "mimetype": "application/julia",
   "name": "julia",
   "version": "1.7.3"
  },
  "orig_nbformat": 4
 },
 "nbformat": 4,
 "nbformat_minor": 2
}
